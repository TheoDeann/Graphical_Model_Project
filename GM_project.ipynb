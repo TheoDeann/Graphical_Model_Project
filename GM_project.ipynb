{
  "nbformat": 4,
  "nbformat_minor": 0,
  "metadata": {
    "colab": {
      "provenance": [],
      "authorship_tag": "ABX9TyNyDnnsfpNWqe640qpGRPLb",
      "include_colab_link": true
    },
    "kernelspec": {
      "name": "python3",
      "display_name": "Python 3"
    },
    "language_info": {
      "name": "python"
    }
  },
  "cells": [
    {
      "cell_type": "markdown",
      "metadata": {
        "id": "view-in-github",
        "colab_type": "text"
      },
      "source": [
        "<a href=\"https://colab.research.google.com/github/TheoDeann/Graphical_Model_Project/blob/main/GM_project.ipynb\" target=\"_parent\"><img src=\"https://colab.research.google.com/assets/colab-badge.svg\" alt=\"Open In Colab\"/></a>"
      ]
    },
    {
      "cell_type": "code",
      "execution_count": 2,
      "metadata": {
        "colab": {
          "base_uri": "https://localhost:8080/"
        },
        "id": "Igo-tlkMuWbV",
        "outputId": "b6795c62-040a-4ee7-fc29-d7152bcf7092"
      },
      "outputs": [
        {
          "output_type": "stream",
          "name": "stdout",
          "text": [
            "Cloning into 'benchmarking-gnns'...\n",
            "remote: Enumerating objects: 1084, done.\u001b[K\n",
            "remote: Total 1084 (delta 0), reused 0 (delta 0), pack-reused 1084\u001b[K\n",
            "Receiving objects: 100% (1084/1084), 3.28 MiB | 10.97 MiB/s, done.\n",
            "Resolving deltas: 100% (823/823), done.\n"
          ]
        }
      ],
      "source": [
        "! git clone https://github.com/graphdeeplearning/benchmarking-gnns.git\n",
        "! cd benchmarking-gnns"
      ]
    }
  ]
}